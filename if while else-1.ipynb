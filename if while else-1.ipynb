{
 "cells": [
  {
   "attachments": {},
   "cell_type": "markdown",
   "metadata": {},
   "source": [
    "## nidyke 2 Lab if...else...while "
   ]
  },
  {
   "cell_type": "code",
   "execution_count": 2,
   "metadata": {},
   "outputs": [
    {
     "name": "stdout",
     "output_type": "stream",
     "text": [
      "You made the Honor Roll\n",
      "You made the dean's list\n",
      "You made the Honor Roll\n",
      "You made the dean's list\n",
      "You made the Honor Roll\n"
     ]
    }
   ],
   "source": [
    "\"\"\"\n",
    "Author: Clemente De Rosa\n",
    "file_name: if else while\n",
    "description: An app that will accept student names and GPAs and test if the student qualifies for either the Dean's List or the Honor Roll.\n",
    "\"\"\"\n",
    "\n",
    "DEANS_LIST: float = 3.5\n",
    "HONOR_ROLL: float = 3.25\n",
    "QUIT_INPUT: str = 'ZZZ'\n",
    "last_name: str = ''\n",
    "gpa: float = 0.0\n",
    "\n",
    "\n",
    "while last_name.upper() != QUIT_INPUT:\n",
    "    last_name = input('Enter the student/s last name: ')\n",
    "    if last_name.upper() !=QUIT_INPUT:\n",
    "        while True:\n",
    "            try: \n",
    "                 gpa = float(input('Enter the student\\'s GPA:  '))\n",
    "                 break\n",
    "            except:\n",
    "                print('You entered an invalid GPA.')\n",
    "        if gpa >= DEANS_LIST: \n",
    "            print('You made the dean\\'s list')\n",
    "        else:\n",
    "            print('You made the Honor Roll')\n",
    "          "
   ]
  }
 ],
 "metadata": {
  "kernelspec": {
   "display_name": "Python 3",
   "language": "python",
   "name": "python3"
  },
  "language_info": {
   "codemirror_mode": {
    "name": "ipython",
    "version": 3
   },
   "file_extension": ".py",
   "mimetype": "text/x-python",
   "name": "python",
   "nbconvert_exporter": "python",
   "pygments_lexer": "ipython3",
   "version": "3.11.0"
  },
  "orig_nbformat": 4,
  "vscode": {
   "interpreter": {
    "hash": "aee8b7b246df8f9039afb4144a1f6fd8d2ca17a180786b69acc140d282b71a49"
   }
  }
 },
 "nbformat": 4,
 "nbformat_minor": 2
}
