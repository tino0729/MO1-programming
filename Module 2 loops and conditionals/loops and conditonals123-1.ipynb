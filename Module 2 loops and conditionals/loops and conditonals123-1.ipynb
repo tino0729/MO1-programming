{
 "cells": [
  {
   "attachments": {},
   "cell_type": "markdown",
   "metadata": {},
   "source": [
    "##7.4 \n",
    "Make a list called things with these three strings as elements: \"mozzarella\", \"cinderella\", \"salmonella\"."
   ]
  },
  {
   "cell_type": "code",
   "execution_count": 1,
   "metadata": {},
   "outputs": [
    {
     "name": "stdout",
     "output_type": "stream",
     "text": [
      "Initial list of things\n",
      "['mozzerella', 'cinderella', 'salmonella']\n"
     ]
    }
   ],
   "source": [
    "thing=['mozzerella', 'cinderella', 'salmonella']\n",
    "print('Initial list of things')\n",
    "print(thing) "
   ]
  },
  {
   "attachments": {},
   "cell_type": "markdown",
   "metadata": {},
   "source": [
    "##7.5 \n",
    "Capitalize the element in things that refers to a person and then print the list. Did it change the element in the list?"
   ]
  },
  {
   "cell_type": "code",
   "execution_count": 2,
   "metadata": {},
   "outputs": [
    {
     "name": "stdout",
     "output_type": "stream",
     "text": [
      "List with person being capitalized\n",
      "['mozzerella', 'Cinderella', 'salmonella']\n"
     ]
    }
   ],
   "source": [
    "thing[1]=thing[1].capitalize()\n",
    "print('List with person being capitalized')\n",
    "print(thing)"
   ]
  },
  {
   "attachments": {},
   "cell_type": "markdown",
   "metadata": {},
   "source": [
    "##7.6 \n",
    "Make the cheesy element of things all uppercase and then print the list."
   ]
  },
  {
   "cell_type": "code",
   "execution_count": 3,
   "metadata": {},
   "outputs": [
    {
     "name": "stdout",
     "output_type": "stream",
     "text": [
      "List with cheesy thing converted to upper\n",
      "['MOZZERELLA', 'Cinderella', 'salmonella']\n"
     ]
    }
   ],
   "source": [
    "thing[0]=thing[0].upper()\n",
    "print('List with cheesy thing converted to upper')\n",
    "print(thing) "
   ]
  },
  {
   "attachments": {},
   "cell_type": "markdown",
   "metadata": {},
   "source": [
    "##7.7 \n",
    "Delete the disease element from things, collect your Nobel Prize, and print the list."
   ]
  },
  {
   "cell_type": "code",
   "execution_count": 4,
   "metadata": {},
   "outputs": [
    {
     "name": "stdout",
     "output_type": "stream",
     "text": [
      "List with disease removed \n",
      "['MOZZERELLA', 'Cinderella']\n",
      "List with new element\n",
      "['MOZZERELLA', 'Cinderella', 'Nobel Prize']\n"
     ]
    }
   ],
   "source": [
    "print('List with disease removed ')\n",
    "thing.remove(thing[2])\n",
    "print(thing)\n",
    "print('List with new element')\n",
    "thing.append('Nobel Prize')\n",
    "print(thing)"
   ]
  }
 ],
 "metadata": {
  "kernelspec": {
   "display_name": "Python 3",
   "language": "python",
   "name": "python3"
  },
  "language_info": {
   "codemirror_mode": {
    "name": "ipython",
    "version": 3
   },
   "file_extension": ".py",
   "mimetype": "text/x-python",
   "name": "python",
   "nbconvert_exporter": "python",
   "pygments_lexer": "ipython3",
   "version": "3.11.0"
  },
  "orig_nbformat": 4,
  "vscode": {
   "interpreter": {
    "hash": "aee8b7b246df8f9039afb4144a1f6fd8d2ca17a180786b69acc140d282b71a49"
   }
  }
 },
 "nbformat": 4,
 "nbformat_minor": 2
}
